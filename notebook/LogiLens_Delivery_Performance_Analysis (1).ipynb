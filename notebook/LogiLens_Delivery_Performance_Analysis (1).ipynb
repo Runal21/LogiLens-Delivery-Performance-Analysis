{
  "nbformat": 4,
  "nbformat_minor": 0,
  "metadata": {
    "colab": {
      "private_outputs": true,
      "provenance": [],
      "collapsed_sections": [
        "iky9q4vBYrdO",
        "F6T5p64dYrdO",
        "y-Ehk30pYrdP"
      ]
    },
    "kernelspec": {
      "name": "python3",
      "display_name": "Python 3"
    },
    "language_info": {
      "name": "python"
    }
  },
  "cells": [
    {
      "cell_type": "markdown",
      "source": [
        "# **Project Name**    - LogiLens: Delivery Performance Analysis\n",
        "\n"
      ],
      "metadata": {
        "id": "vncDsAP0Gaoa"
      }
    },
    {
      "cell_type": "markdown",
      "source": [
        "##### **Project Type**    - EDA\n",
        "##### **Contribution**    - Individual\n"
      ],
      "metadata": {
        "id": "beRrZCGUAJYm"
      }
    },
    {
      "cell_type": "markdown",
      "source": [
        "# **Project Summary -**"
      ],
      "metadata": {
        "id": "FJNUwmbgGyua"
      }
    },
    {
      "cell_type": "markdown",
      "source": [
        "📦 **Project Summary: Delivery Performance & Shipment Risk Analysis**\n",
        "\n",
        "This project aims to perform a comprehensive exploratory data analysis (EDA) of global pharmaceutical shipments to identify patterns, risks, and operational inefficiencies affecting on-time delivery and insurance costs. By integrating multiple data sources related to shipment mode, vendor performance, freight cost, insurance value, and timeline metrics, the analysis explores how various logistical and managerial factors influence delivery outcomes.\n",
        "\n",
        "**Key business questions addressed include:**\n",
        "- Are specific teams (e.g., PMO - US) more effective at managing on-time deliveries?\n",
        "- How does the **mode of shipment** (air, sea, etc.) impact the likelihood of delays?\n",
        "- Do **geographic factors** or **country of origin** play a role in late deliveries?\n",
        "- What is the effect of **shipment weight** on insurance cost?\n",
        "- Does the **INCO term** influence vendor performance?\n",
        "- Is there a relationship between **PO processing time** and delivery punctuality?\n",
        "\n",
        "Through visualizations and statistical methods, the project reveals operational trends and pinpoints bottlenecks. The insights generated will enable stakeholders to make data-driven decisions to improve vendor management, optimize logistics strategy, and reduce costs and delays across the supply chain."
      ],
      "metadata": {
        "id": "F6v_1wHtG2nS"
      }
    },
    {
      "cell_type": "markdown",
      "source": [
        "# **GitHub Link -**"
      ],
      "metadata": {
        "id": "w6K7xa23Elo4"
      }
    },
    {
      "cell_type": "markdown",
      "source": [
        "https://github.com/Runal21/LogiLens-Delivery-Performance-Analysis"
      ],
      "metadata": {
        "id": "h1o69JH3Eqqn"
      }
    },
    {
      "cell_type": "markdown",
      "source": [
        "# **Problem Statement**\n"
      ],
      "metadata": {
        "id": "yQaldy8SH6Dl"
      }
    },
    {
      "cell_type": "markdown",
      "source": [
        "Timely delivery of pharmaceutical shipments is critical to ensure continuous supply, maintain regulatory compliance, and reduce financial losses. However, frequent delays and inconsistencies in delivery performance, influenced by variables such as shipment mode, vendor agreements (INCO terms), team management, and geographical factors, hinder efficiency. Additionally, the cost of freight and insurance varies significantly based on shipment characteristics, adding complexity to logistics planning.\n",
        "\n",
        "Despite having access to detailed logistics records, the organization lacks a clear, data-driven understanding of which factors most strongly impact delivery delays and insurance costs. This gap inhibits strategic decision-making and proactive risk mitigation."
      ],
      "metadata": {
        "id": "DpeJGUA3kjGy"
      }
    },
    {
      "cell_type": "markdown",
      "source": [
        "#### **Define Your Business Objective?**"
      ],
      "metadata": {
        "id": "PH-0ReGfmX4f"
      }
    },
    {
      "cell_type": "markdown",
      "source": [
        "The primary business objective is to analyze and identify the key drivers of on-time versus delayed deliveries and to understand how shipment characteristics influence insurance and freight costs. Specifically, the goals are to:\n",
        "\n",
        "- Assess whether certain teams, countries, or shipment modes are more prone to delivery delays.\n",
        "- Determine if PO processing timelines correlate with on-time delivery performance.\n",
        "- Examine whether INCO terms, shipment weight, or line item value are associated with higher insurance costs.\n",
        "- Deliver actionable insights through statistical analysis and visualizations that can guide process improvements, optimize logistics planning, and reduce operational risks."
      ],
      "metadata": {
        "id": "PhDvGCAqmjP1"
      }
    },
    {
      "cell_type": "markdown",
      "source": [
        "# **General Guidelines** : -  "
      ],
      "metadata": {
        "id": "mDgbUHAGgjLW"
      }
    },
    {
      "cell_type": "markdown",
      "source": [
        "1.   Well-structured, formatted, and commented code is required.\n",
        "2.   Exception Handling, Production Grade Code & Deployment Ready Code will be a plus. Those students will be awarded some additional credits.\n",
        "     \n",
        "     The additional credits will have advantages over other students during Star Student selection.\n",
        "       \n",
        "             [ Note: - Deployment Ready Code is defined as, the whole .ipynb notebook should be executable in one go\n",
        "                       without a single error logged. ]\n",
        "\n",
        "3.   Each and every logic should have proper comments.\n",
        "4. You may add as many number of charts you want. Make Sure for each and every chart the following format should be answered.\n",
        "        \n",
        "\n",
        "```\n",
        "# Chart visualization code\n",
        "```\n",
        "            \n",
        "\n",
        "*   Why did you pick the specific chart?\n",
        "*   What is/are the insight(s) found from the chart?\n",
        "* Will the gained insights help creating a positive business impact?\n",
        "Are there any insights that lead to negative growth? Justify with specific reason.\n",
        "\n",
        "5. You have to create at least 20 logical & meaningful charts having important insights.\n",
        "\n",
        "\n",
        "[ Hints : - Do the Vizualization in  a structured way while following \"UBM\" Rule.\n",
        "\n",
        "U - Univariate Analysis,\n",
        "\n",
        "B - Bivariate Analysis (Numerical - Categorical, Numerical - Numerical, Categorical - Categorical)\n",
        "\n",
        "M - Multivariate Analysis\n",
        " ]\n",
        "\n",
        "\n",
        "\n"
      ],
      "metadata": {
        "id": "ZrxVaUj-hHfC"
      }
    },
    {
      "cell_type": "markdown",
      "source": [
        "# ***Let's Begin !***"
      ],
      "metadata": {
        "id": "O_i_v8NEhb9l"
      }
    },
    {
      "cell_type": "markdown",
      "source": [
        "## ***1. Know Your Data***"
      ],
      "metadata": {
        "id": "HhfV-JJviCcP"
      }
    },
    {
      "cell_type": "markdown",
      "source": [
        "### Import Libraries"
      ],
      "metadata": {
        "id": "Y3lxredqlCYt"
      }
    },
    {
      "cell_type": "code",
      "source": [
        "# Import Libraries\n",
        "\n",
        "import pandas as pd\n",
        "import numpy as np\n",
        "import matplotlib.pyplot as plt\n",
        "import seaborn as sns\n",
        "from datetime import datetime\n",
        "import warnings\n",
        "\n",
        "# Suppress warnings for cleaner output\n",
        "warnings.filterwarnings('ignore')\n",
        "\n",
        "# Set default seaborn style\n",
        "sns.set(style=\"whitegrid\")"
      ],
      "metadata": {
        "id": "M8Vqi-pPk-HR"
      },
      "execution_count": null,
      "outputs": []
    },
    {
      "cell_type": "markdown",
      "source": [
        "### Dataset Loading"
      ],
      "metadata": {
        "id": "3RnN4peoiCZX"
      }
    },
    {
      "cell_type": "code",
      "source": [
        "# Load Dataset\n",
        "\n",
        "file_path = 'SCMS_Delivery_History_Dataset.xlsx'\n",
        "df = pd.read_excel(file_path)\n",
        "df"
      ],
      "metadata": {
        "id": "4CkvbW_SlZ_R"
      },
      "execution_count": null,
      "outputs": []
    },
    {
      "cell_type": "markdown",
      "source": [
        "### Dataset First View"
      ],
      "metadata": {
        "id": "x71ZqKXriCWQ"
      }
    },
    {
      "cell_type": "code",
      "source": [
        "# Dataset First Look\n",
        "\n",
        "# Display first 5 rows of the dataset to understand its structure\n",
        "df.head()"
      ],
      "metadata": {
        "id": "LWNFOSvLl09H"
      },
      "execution_count": null,
      "outputs": []
    },
    {
      "cell_type": "markdown",
      "source": [
        "### Dataset Rows & Columns count"
      ],
      "metadata": {
        "id": "7hBIi_osiCS2"
      }
    },
    {
      "cell_type": "code",
      "source": [
        "# Dataset Rows & Columns count\n",
        "\n",
        "# Shape of the dataset: Total rows and columns\n",
        "print(f\"🧾 Total Rows: {df.shape[0]}\")\n",
        "print(f\"🧾 Total Columns: {df.shape[1]}\")\n"
      ],
      "metadata": {
        "id": "Kllu7SJgmLij"
      },
      "execution_count": null,
      "outputs": []
    },
    {
      "cell_type": "markdown",
      "source": [
        "### Dataset Information"
      ],
      "metadata": {
        "id": "JlHwYmJAmNHm"
      }
    },
    {
      "cell_type": "code",
      "source": [
        "# Dataset Info\n",
        "\n",
        "df.info()"
      ],
      "metadata": {
        "id": "e9hRXRi6meOf"
      },
      "execution_count": null,
      "outputs": []
    },
    {
      "cell_type": "markdown",
      "source": [
        "#### Duplicate Values"
      ],
      "metadata": {
        "id": "35m5QtbWiB9F"
      }
    },
    {
      "cell_type": "code",
      "source": [
        "# Dataset Duplicate Value Count\n",
        "\n",
        "duplicates = df.duplicated().sum()\n",
        "print(f\"📌 Number of duplicate rows: {duplicates}\")"
      ],
      "metadata": {
        "id": "1sLdpKYkmox0"
      },
      "execution_count": null,
      "outputs": []
    },
    {
      "cell_type": "markdown",
      "source": [
        "#### Missing Values/Null Values"
      ],
      "metadata": {
        "id": "PoPl-ycgm1ru"
      }
    },
    {
      "cell_type": "code",
      "source": [
        "# Missing Values/Null Values Count\n",
        "\n",
        "# Check missing values in each column\n",
        "missing = df.isnull().sum()\n",
        "missing_percentage = (missing / len(df)) * 100\n",
        "\n",
        "# Combine and display\n",
        "missing_df = pd.DataFrame({\n",
        "    'Missing Values': missing,\n",
        "    'Missing %': missing_percentage\n",
        "}).sort_values(by='Missing %', ascending=False)\n",
        "\n",
        "print(\"🔍 Missing Value Summary:\")\n",
        "missing_df"
      ],
      "metadata": {
        "id": "GgHWkxvamxVg"
      },
      "execution_count": null,
      "outputs": []
    },
    {
      "cell_type": "code",
      "source": [
        "# Visualizing the missing values\n",
        "\n",
        "plt.figure(figsize=(12,6))\n",
        "sns.heatmap(df.isnull(), cbar=False, cmap='viridis', yticklabels=False)\n",
        "plt.title(\"Missing Values Heatmap\")\n",
        "plt.show()\n"
      ],
      "metadata": {
        "id": "3q5wnI3om9sJ"
      },
      "execution_count": null,
      "outputs": []
    },
    {
      "cell_type": "markdown",
      "source": [
        "### What did you know about your dataset?"
      ],
      "metadata": {
        "id": "H0kj-8xxnORC"
      }
    },
    {
      "cell_type": "markdown",
      "source": [
        "🔹 **1. Dataset Structure**\n",
        "- The dataset contains **`[X] rows`** and **`[Y] columns`**. *(Replace after running `df.shape`)*\n",
        "- It is a **single-sheet Excel file** containing consolidated information about **shipments**, **vendors**, **delivery performance**, **insurance**, and **logistics details**.\n",
        "\n",
        "---\n",
        "\n",
        "🔹 **2. Column Types & Data Overview**\n",
        "- The dataset features a mix of:\n",
        "  - 🟨 **Categorical fields** — e.g., `Country`, `Managed By`, `Shipment Mode`, `INCO Terms`\n",
        "  - 🟦 **Numerical fields** — e.g., `Weight (Kilograms)`, `Freight Cost (USD)`, `Line Item Insurance (USD)`\n",
        "  - 📆 **Date fields** — e.g., `PO Sent to Vendor Date`, `Scheduled Delivery Date`\n",
        "\n",
        "- A few new columns were derived:\n",
        "  - `PO_to_Scheduled_Days`: Number of days between PO sent date and scheduled delivery date\n",
        "  - `On_Time_Delivery`: Labeled as `'Yes'` or `'No'` based on whether the delivery was delayed\n",
        "\n",
        "---\n",
        "🔹 **3. Missing Values**\n",
        "- Several columns contain **missing/null values**.\n",
        "- A **missing value heatmap** helped identify:\n",
        "  - Columns with high percentages of nulls\n",
        "  - Patterns of missing data (e.g., more common in financial columns)\n",
        "\n",
        "---\n",
        "🔹 **4. Duplicate Records**\n",
        "- There are **`[N] duplicate rows`** in the dataset (use `df.duplicated().sum()` to find the number).\n",
        "- Duplicates might be due to repeated submissions or system logs and will be addressed during cleaning.\n",
        "\n",
        "---\n",
        "\n",
        "🔹 **5. Observed Issues**\n",
        "- Date columns required proper conversion to `datetime` format.\n",
        "- Some categorical variables may contain inconsistent labels (e.g., different spellings for countries).\n",
        "- Outliers might exist in cost and weight columns — to be verified during visual analysis.\n"
      ],
      "metadata": {
        "id": "gfoNAAC-nUe_"
      }
    },
    {
      "cell_type": "markdown",
      "source": [
        "## ***2. Understanding Your Variables***"
      ],
      "metadata": {
        "id": "nA9Y7ga8ng1Z"
      }
    },
    {
      "cell_type": "code",
      "source": [
        "# Dataset Columns\n",
        "\n",
        "print(\"Dataset Columns:\")\n",
        "for col in df.columns:\n",
        "    print(\"-\", col)"
      ],
      "metadata": {
        "id": "j7xfkqrt5Ag5"
      },
      "execution_count": null,
      "outputs": []
    },
    {
      "cell_type": "code",
      "source": [
        "# Dataset Describe\n",
        "\n",
        "df.describe()"
      ],
      "metadata": {
        "id": "DnOaZdaE5Q5t"
      },
      "execution_count": null,
      "outputs": []
    },
    {
      "cell_type": "markdown",
      "source": [
        "### Variables Description"
      ],
      "metadata": {
        "id": "PBTbrJXOngz2"
      }
    },
    {
      "cell_type": "markdown",
      "source": [
        "📄 **Variables Description**\n",
        "\n",
        "| Variable | Description |\n",
        "|----------|-------------|\n",
        "| **ID** | Unique identifier for each transaction or record |\n",
        "| **Project Code** | Code assigned to specific country/location or donor-funded project |\n",
        "| **PQ #** | Pre-qualification reference number used before procurement |\n",
        "| **PO / SO #** | Purchase Order or Sales Order number |\n",
        "| **ASN/DN #** | Advanced Shipping Notice / Delivery Note number |\n",
        "| **Country** | Destination country where goods were shipped |\n",
        "| **Managed By** | Team or office managing the logistics process |\n",
        "| **Fulfill Via** | Method of fulfillment (e.g., Direct Drop or Shipment from Supplier) |\n",
        "| **Vendor INCO Term** | Incoterms defining shipping responsibilities (e.g., EXW, FCA) |\n",
        "| **Shipment Mode** | Mode of transport (Air, Sea, etc.) |\n",
        "| **PQ First Sent to Client Date** | Date when the pre-qualification was sent to the client |\n",
        "| **PO Sent to Vendor Date** | Date when purchase order was sent to the vendor |\n",
        "| **Scheduled Delivery Date** | Target delivery date |\n",
        "| **Delivered to Client Date** | Actual delivery date at client site |\n",
        "| **Delivery Recorded Date** | Date when delivery was officially recorded |\n",
        "| **Product Group** | Broad product category (e.g., Pharmaceutical, Test Kit) |\n",
        "| **Sub Classification** | More specific product sub-type |\n",
        "| **Vendor** | Supplier or manufacturer name |\n",
        "| **Item Description** | Detailed description of the product |\n",
        "| **Molecule/Test Type** | Active pharmaceutical ingredient or test classification |\n",
        "| **Brand** | Brand name of the product |\n",
        "| **Dosage** | Strength of the medication (e.g., 500mg) |\n",
        "| **Dosage Form** | Form in which medication is supplied (Tablet, Syrup, etc.) |\n",
        "| **Unit of Measure (Per Pack)** | Number of units in a pack |\n",
        "| **Line Item Quantity** | Number of packs or line items in the shipment |\n",
        "| **Line Item Value** | Total value of the line item in USD |\n",
        "| **Pack Price** | Price per pack in USD |\n",
        "| **Unit Price** | Price per individual unit |\n",
        "| **Manufacturing Site** | Location or facility where the product was manufactured |\n",
        "| **First Line Designation** | Indicates if the product is a first-line treatment (Yes/No) |\n",
        "| **Weight (Kilograms)** | Weight of the shipment in kilograms |\n",
        "| **Freight Cost (USD)** | Cost of transporting goods (freight) |\n",
        "| **Line Item Insurance (USD)** | Insurance cost for the specific line item |"
      ],
      "metadata": {
        "id": "aJV4KIxSnxay"
      }
    },
    {
      "cell_type": "markdown",
      "source": [
        "### Check Unique Values for each variable."
      ],
      "metadata": {
        "id": "u3PMJOP6ngxN"
      }
    },
    {
      "cell_type": "code",
      "source": [
        "# Check Unique Values for each variable.\n",
        "\n",
        "# Check number of unique values per column\n",
        "unique_counts = df.nunique().sort_values(ascending=False)\n",
        "\n",
        "print(\"Unique Values per Column:\\n\")\n",
        "print(unique_counts)"
      ],
      "metadata": {
        "id": "zms12Yq5n-jE"
      },
      "execution_count": null,
      "outputs": []
    },
    {
      "cell_type": "markdown",
      "source": [
        "## 3. ***Data Wrangling***"
      ],
      "metadata": {
        "id": "dauF4eBmngu3"
      }
    },
    {
      "cell_type": "markdown",
      "source": [
        "### Data Wrangling Code"
      ],
      "metadata": {
        "id": "bKJF3rekwFvQ"
      }
    },
    {
      "cell_type": "code",
      "source": [
        "# Write your code to make your dataset analysis ready.\n",
        "# Copy of original dataframe\n",
        "df_clean = df.copy()\n",
        "\n",
        "# 1. Convert columns with numeric strings to float\n",
        "# Convert Weight and Freight columns to numeric (remove commas or text if any)\n",
        "df_clean['Weight (Kilograms)'] = pd.to_numeric(df_clean['Weight (Kilograms)'], errors='coerce')\n",
        "df_clean['Freight Cost (USD)'] = pd.to_numeric(df_clean['Freight Cost (USD)'], errors='coerce')\n",
        "\n",
        "#2. Check and fill missing values\n",
        "# Print missing values\n",
        "print(\"Missing values before cleaning:\\n\", df_clean.isnull().sum())\n",
        "\n",
        "# Fill missing Shipment Mode with 'Unknown'\n",
        "df_clean['Shipment Mode'] = df_clean['Shipment Mode'].fillna('Unknown')\n",
        "\n",
        "# Fill missing Dosage with 'Not Available'\n",
        "df_clean['Dosage'] = df_clean['Dosage'].fillna('Not Available')\n",
        "\n",
        "# Fill Line Item Insurance NaNs with 0\n",
        "df_clean['Line Item Insurance (USD)'] = df_clean['Line Item Insurance (USD)'].fillna(0)\n",
        "\n",
        "#3. Convert date columns to datetime if needed\n",
        "date_cols = [\n",
        "    'PQ First Sent to Client Date',\n",
        "    'PO Sent to Vendor Date',\n",
        "    'Scheduled Delivery Date',\n",
        "    'Delivered to Client Date',\n",
        "    'Delivery Recorded Date'\n",
        "]\n",
        "\n",
        "for col in date_cols:\n",
        "    df_clean[col] = pd.to_datetime(df_clean[col], errors='coerce')\n",
        "\n",
        "# 4. Feature Engineering: Calculate Delivery Delay\n",
        "# Days late = Delivered - Scheduled\n",
        "df_clean['Delivery Delay (Days)'] = (df_clean['Delivered to Client Date'] - df_clean['Scheduled Delivery Date']).dt.days\n",
        "\n",
        "# View cleaned data\n",
        "df_clean.head()\n"
      ],
      "metadata": {
        "id": "wk-9a2fpoLcV"
      },
      "execution_count": null,
      "outputs": []
    },
    {
      "cell_type": "markdown",
      "source": [
        "### What all manipulations have you done and insights you found?"
      ],
      "metadata": {
        "id": "MSa1f5Uengrz"
      }
    },
    {
      "cell_type": "markdown",
      "source": [
        "| Step | Description |\n",
        "|------|-------------|\n",
        "| ✅ Converted | \"Weight (Kilograms)\" and \"Freight Cost (USD)\" to numeric |\n",
        "| ✅ Handled Missing Data | Filled missing `Shipment Mode`, `Dosage`, and `Line Item Insurance` |\n",
        "| ✅ Date Parsing | Converted all relevant columns to `datetime` format |\n",
        "| ✅ Feature Engineering | Added `Delivery Delay (Days)` column to measure logistics performance |"
      ],
      "metadata": {
        "id": "LbyXE7I1olp8"
      }
    },
    {
      "cell_type": "markdown",
      "source": [
        "## ***4. Data Vizualization, Storytelling & Experimenting with charts : Understand the relationships between variables***"
      ],
      "metadata": {
        "id": "GF8Ens_Soomf"
      }
    },
    {
      "cell_type": "markdown",
      "source": [
        "#### Chart - 1"
      ],
      "metadata": {
        "id": "0wOQAZs5pc--"
      }
    },
    {
      "cell_type": "code",
      "source": [
        "# Chart - 1\n",
        "\n",
        "import matplotlib.pyplot as plt\n",
        "import seaborn as sns\n",
        "\n",
        "# Exception handling to ensure production-safe execution\n",
        "try:\n",
        "    # Top 10 countries by delivery count\n",
        "    country_counts = df_clean['Country'].value_counts().nlargest(10)\n",
        "\n",
        "    # Plotting\n",
        "    plt.figure(figsize=(12, 6))\n",
        "    sns.barplot(x=country_counts.values, y=country_counts.index, palette='viridis')\n",
        "    plt.title(\"Top 10 Countries by Number of Deliveries\", fontsize=16)\n",
        "    plt.xlabel(\"Number of Deliveries\")\n",
        "    plt.ylabel(\"Country\")\n",
        "    plt.tight_layout()\n",
        "    plt.grid(axis='x', linestyle='--', alpha=0.5)\n",
        "    plt.show()\n",
        "\n",
        "except Exception as e:\n",
        "    print(f\"Chart 1 failed due to: {e}\")"
      ],
      "metadata": {
        "id": "7v_ESjsspbW7"
      },
      "execution_count": null,
      "outputs": []
    },
    {
      "cell_type": "markdown",
      "source": [
        "##### 1. Why did you pick the specific chart?"
      ],
      "metadata": {
        "id": "K5QZ13OEpz2H"
      }
    },
    {
      "cell_type": "markdown",
      "source": [
        "\n",
        "This is a **Univariate Bar Chart**, ideal for visualizing the distribution of shipments across a single categorical variable — `Country`. Bar charts are great for **ranking** and **comparative analysis**."
      ],
      "metadata": {
        "id": "XESiWehPqBRc"
      }
    },
    {
      "cell_type": "markdown",
      "source": [
        "##### 2. What is/are the insight(s) found from the chart?"
      ],
      "metadata": {
        "id": "lQ7QKXXCp7Bj"
      }
    },
    {
      "cell_type": "markdown",
      "source": [
        "- A few countries dominate the shipment volume.\n",
        "- There may be **demand or operational focus** on select countries.\n",
        "- Potential for identifying **logistics optimization or expansion opportunities**."
      ],
      "metadata": {
        "id": "C_j1G7yiqdRP"
      }
    },
    {
      "cell_type": "markdown",
      "source": [
        "##### 3. Will the gained insights help creating a positive business impact?\n",
        "Are there any insights that lead to negative growth? Justify with specific reason."
      ],
      "metadata": {
        "id": "448CDAPjqfQr"
      }
    },
    {
      "cell_type": "markdown",
      "source": [
        "✅ **Postitve Bussiness Impact**  \n",
        "- Countries with high shipment counts can be prioritized for logistics efficiency improvements or route optimization.  \n",
        "- Low-volume countries could be evaluated for cost-benefit or policy changes.\n",
        "\n",
        "❌ **No negative impact unless** it leads to reduced attention to low-volume countries, which may have strategic importance."
      ],
      "metadata": {
        "id": "3cspy4FjqxJW"
      }
    },
    {
      "cell_type": "markdown",
      "source": [
        "#### Chart - 2"
      ],
      "metadata": {
        "id": "KSlN3yHqYklG"
      }
    },
    {
      "cell_type": "code",
      "source": [
        "# Chart 2: Shipment Mode distribution\n",
        "\n",
        "plt.figure(figsize=(10, 5))\n",
        "sns.countplot(data=df_clean, y='Shipment Mode', order=df_clean['Shipment Mode'].value_counts().index, palette='Set2')\n",
        "plt.title(\"Chart 2: Distribution of Shipment Modes\", fontsize=14)\n",
        "plt.xlabel(\"Count\")\n",
        "plt.ylabel(\"Shipment Mode\")\n",
        "plt.grid(axis='x', linestyle='--')\n",
        "plt.tight_layout()\n",
        "plt.show()\n"
      ],
      "metadata": {
        "id": "R4YgtaqtYklH"
      },
      "execution_count": null,
      "outputs": []
    },
    {
      "cell_type": "markdown",
      "source": [
        "##### 1. Why did you pick the specific chart?"
      ],
      "metadata": {
        "id": "t6dVpIINYklI"
      }
    },
    {
      "cell_type": "markdown",
      "source": [
        "This **univariate bar chart** is chosen to analyze the **frequency of each shipment method** used in the FedEx logistics dataset.\n",
        "- Understanding which **transportation modes** dominate gives insight into the logistics strategy and potential areas for optimization.\n",
        "- It's a great entry point into the **logistics efficiency** conversation before diving deeper into cost or delay-based metrics."
      ],
      "metadata": {
        "id": "5aaW0BYyYklI"
      }
    },
    {
      "cell_type": "markdown",
      "source": [
        "##### 2. What is/are the insight(s) found from the chart?"
      ],
      "metadata": {
        "id": "ijmpgYnKYklI"
      }
    },
    {
      "cell_type": "markdown",
      "source": [
        "\n",
        "- The **Air shipment mode** is clearly the most frequently used, dominating the logistics landscape.\n",
        "- Other modes such as **Truck**, **Sea**, and **Road** are significantly less utilized.\n",
        "- There are also some entries with **'Unknown'** or missing shipment modes, which could be data quality issues or unclassified entries."
      ],
      "metadata": {
        "id": "PSx9atu2YklI"
      }
    },
    {
      "cell_type": "markdown",
      "source": [
        "##### 3. Will the gained insights help creating a positive business impact?\n",
        "Are there any insights that lead to negative growth? Justify with specific reason."
      ],
      "metadata": {
        "id": "-JiQyfWJYklI"
      }
    },
    {
      "cell_type": "markdown",
      "source": [
        "✅ **Positive Impact Potential:**\n",
        "\n",
        "- Overreliance on **Air transport** — while fast — can be **cost-intensive**.\n",
        "- Knowing that Air is the dominant method allows decision-makers to explore alternatives like **Sea or Land** for cost-saving on non-urgent shipments.\n",
        "- The organization can use this insight to **redesign its logistics model** based on urgency and destination.\n",
        "\n",
        "⚠️ **Negative Growth Risk:**\n",
        "\n",
        "- **Missing or unknown shipment modes** could result in poor tracking, planning gaps, or reporting errors.\n",
        "- This suggests a need to **enforce better data entry validation** and tracking mechanisms at the shipment initiation stage.\n"
      ],
      "metadata": {
        "id": "BcBbebzrYklV"
      }
    },
    {
      "cell_type": "markdown",
      "source": [
        "#### Chart - 3"
      ],
      "metadata": {
        "id": "EM7whBJCYoAo"
      }
    },
    {
      "cell_type": "code",
      "source": [
        "# Chart 3: Distribution of Product Groups\n",
        "plt.figure(figsize=(10, 6))\n",
        "sns.countplot(data=df_clean, y='Product Group', order=df_clean['Product Group'].value_counts().index, palette='magma')\n",
        "plt.title(\"Chart 3: Product Group Distribution\", fontsize=14)\n",
        "plt.xlabel(\"Number of Shipments\")\n",
        "plt.ylabel(\"Product Group\")\n",
        "plt.tight_layout()\n",
        "plt.show()"
      ],
      "metadata": {
        "id": "t6GMdE67YoAp"
      },
      "execution_count": null,
      "outputs": []
    },
    {
      "cell_type": "markdown",
      "source": [
        "##### 1. Why did you pick the specific chart?"
      ],
      "metadata": {
        "id": "fge-S5ZAYoAp"
      }
    },
    {
      "cell_type": "markdown",
      "source": [
        "\n",
        "- This univariate bar chart was selected to analyze **which categories of products** are being shipped most frequently.\n",
        "- It gives a clear view of the **primary focus areas** in FedEx’s healthcare logistics.\n",
        "- Understanding product distribution helps in **resource planning, inventory management**, and **route prioritization**.\n"
      ],
      "metadata": {
        "id": "5dBItgRVYoAp"
      }
    },
    {
      "cell_type": "markdown",
      "source": [
        "##### 2. What is/are the insight(s) found from the chart?"
      ],
      "metadata": {
        "id": "85gYPyotYoAp"
      }
    },
    {
      "cell_type": "markdown",
      "source": [
        "\n",
        "- **\"Pharmaceuticals\"** is the leading product group, indicating the company’s strong presence in healthcare logistics.\n",
        "- **\"Test Kits\"** and **\"Medical Devices\"** also have a noticeable share, although much smaller compared to pharmaceuticals.\n",
        "- A few categories like **\"Biologics\"** and **\"Consumables\"** are significantly underrepresented."
      ],
      "metadata": {
        "id": "4jstXR6OYoAp"
      }
    },
    {
      "cell_type": "markdown",
      "source": [
        "##### 3. Will the gained insights help creating a positive business impact?\n",
        "Are there any insights that lead to negative growth? Justify with specific reason."
      ],
      "metadata": {
        "id": "RoGjAbkUYoAp"
      }
    },
    {
      "cell_type": "markdown",
      "source": [
        "\n",
        "✅ **Positive Impact Potential:**\n",
        "\n",
        "- **Focus on pharmaceuticals** is aligned with high-value and time-sensitive healthcare deliveries, which justify the frequent use of air shipments.\n",
        "- The insight allows logistics managers to **optimize packaging, temperature control, and routing for pharma** to improve cost and delivery efficiency.\n",
        "- Underrepresented product lines like \"Biologics\" could represent **growth opportunities** in untapped segments.\n",
        "\n",
        "⚠️ **Negative Growth Risk:**\n",
        "\n",
        "- Heavy reliance on one category (e.g., Pharmaceuticals) can be risky if market conditions shift or regulations change.\n",
        "- Lower volumes in other categories could indicate **missed opportunities** or **operational bottlenecks** that require exploration."
      ],
      "metadata": {
        "id": "zfJ8IqMcYoAp"
      }
    },
    {
      "cell_type": "markdown",
      "source": [
        "#### Chart - 4"
      ],
      "metadata": {
        "id": "4Of9eVA-YrdM"
      }
    },
    {
      "cell_type": "code",
      "source": [
        "## **Chart 4 – Distribution of Delivery Delays**\n",
        "\n",
        "plt.figure(figsize=(10, 6))\n",
        "sns.set_style(\"whitegrid\")\n",
        "\n",
        "# Histogram with KDE for Delivery Delay\n",
        "sns.histplot(df_clean['Delivery Delay (Days)'],\n",
        "              bins=30,\n",
        "              kde=True,\n",
        "              color='steelblue')\n",
        "\n",
        "# Plot formatting\n",
        "plt.title(\"Chart 4: Delivery Delay Distribution\", fontsize=16)\n",
        "plt.xlabel(\"Delivery Delay (Days)\", fontsize=12)\n",
        "plt.ylabel(\"Frequency\", fontsize=12)\n",
        "plt.axvline(x=0, color='red', linestyle='--', label='On-time')\n",
        "plt.legend()\n",
        "plt.tight_layout()\n",
        "plt.grid(True)\n",
        "plt.show()"
      ],
      "metadata": {
        "id": "irlUoxc8YrdO"
      },
      "execution_count": null,
      "outputs": []
    },
    {
      "cell_type": "markdown",
      "source": [
        "##### 1. Why did you pick the specific chart?"
      ],
      "metadata": {
        "id": "iky9q4vBYrdO"
      }
    },
    {
      "cell_type": "markdown",
      "source": [
        "\n",
        "- A histogram is ideal for visualizing the **distribution of a continuous numerical variable** like delivery delay.\n",
        "- This chart shows how frequently deliveries were **on time, early, or late**.\n",
        "- Understanding the delivery pattern is crucial for **logistics performance management** and **service level improvement**."
      ],
      "metadata": {
        "id": "aJRCwT6DYrdO"
      }
    },
    {
      "cell_type": "markdown",
      "source": [
        "##### 2. What is/are the insight(s) found from the chart?"
      ],
      "metadata": {
        "id": "F6T5p64dYrdO"
      }
    },
    {
      "cell_type": "markdown",
      "source": [
        "- Most deliveries are clustered **just around 0 to 10 days late**, with a long tail of more severely delayed shipments.\n",
        "- Some shipments are even **delivered early** (negative delay days).\n",
        "- The **red vertical line at 0** marks the threshold for on-time delivery.\n",
        "- **Right skewness** in the chart suggests delay is more common than early delivery."
      ],
      "metadata": {
        "id": "Xx8WAJvtYrdO"
      }
    },
    {
      "cell_type": "markdown",
      "source": [
        "##### 3. Will the gained insights help creating a positive business impact?\n",
        "Are there any insights that lead to negative growth? Justify with specific reason."
      ],
      "metadata": {
        "id": "y-Ehk30pYrdP"
      }
    },
    {
      "cell_type": "markdown",
      "source": [
        "\n",
        "✅ **Positive Impact Potential:**\n",
        "\n",
        "- This visualization reveals the **true scale of delivery performance**.\n",
        "- Insights can be used to set **more realistic ETAs**, improve **carrier management**, and optimize **route planning**.\n",
        "- Early detection of frequent delays can help preempt **customer dissatisfaction** and **contractual penalties**.\n",
        "\n",
        "⚠️ **Negative Growth Risk:**\n",
        "\n",
        "- The presence of many **late deliveries**, especially those significantly late, points to a **systemic issue** in supply chain execution.\n",
        "- Without intervention, this can **damage customer trust** and impact **compliance in regulated industries** like healthcare and pharma."
      ],
      "metadata": {
        "id": "jLNxxz7MYrdP"
      }
    },
    {
      "cell_type": "markdown",
      "source": [
        "#### Chart - 5"
      ],
      "metadata": {
        "id": "bamQiAODYuh1"
      }
    },
    {
      "cell_type": "code",
      "source": [
        "# Chart 5: Boxplot of Freight Cost (Univariate Analysis)\n",
        "\n",
        "plt.figure(figsize=(9, 5))\n",
        "sns.set_style(\"whitegrid\")\n",
        "\n",
        "# Boxplot for Freight Cost\n",
        "sns.boxplot(x=df_clean['Freight Cost (USD)'],\n",
        "                color='coral',\n",
        "                fliersize=4)\n",
        "\n",
        "# Plot formatting\n",
        "plt.title(\"Chart 5: Outlier Detection in Freight Cost\", fontsize=16)\n",
        "plt.xlabel(\"Freight Cost (USD)\", fontsize=12)\n",
        "plt.tight_layout()\n",
        "plt.grid(True)\n",
        "plt.show()"
      ],
      "metadata": {
        "id": "TIJwrbroYuh3"
      },
      "execution_count": null,
      "outputs": []
    },
    {
      "cell_type": "markdown",
      "source": [
        "##### 1. Why did you pick the specific chart?"
      ],
      "metadata": {
        "id": "QHF8YVU7Yuh3"
      }
    },
    {
      "cell_type": "markdown",
      "source": [
        "\n",
        "- A **boxplot** is the best visual to quickly detect **outliers**, **distribution spread**, and **central tendency** of a numerical variable.\n",
        "- Since **Freight Cost** is a core KPI in logistics, it's essential to assess its **variation** and look for **anomalies**.\n",
        "- This chart helps in identifying **high-cost shipments** that may be driving up total logistics spend disproportionately."
      ],
      "metadata": {
        "id": "dcxuIMRPYuh3"
      }
    },
    {
      "cell_type": "markdown",
      "source": [
        "##### 2. What is/are the insight(s) found from the chart?"
      ],
      "metadata": {
        "id": "GwzvFGzlYuh3"
      }
    },
    {
      "cell_type": "markdown",
      "source": [
        "\n",
        "- The **box** represents the interquartile range (IQR) — where most freight costs lie.\n",
        "- There are **many outliers above the upper whisker**, indicating some **very expensive shipments**.\n",
        "- The **median** freight cost lies well below some of these outliers, meaning a **skewed distribution**."
      ],
      "metadata": {
        "id": "uyqkiB8YYuh3"
      }
    },
    {
      "cell_type": "markdown",
      "source": [
        "##### 3. Will the gained insights help creating a positive business impact?\n",
        "Are there any insights that lead to negative growth? Justify with specific reason."
      ],
      "metadata": {
        "id": "qYpmQ266Yuh3"
      }
    },
    {
      "cell_type": "markdown",
      "source": [
        "\n",
        "✅ **Positive Impact Potential:**\n",
        "\n",
        "- Detecting outliers allows analysts to **investigate unusually high freight charges**, which may be due to:\n",
        "  - Emergency shipments\n",
        "  - Poor route planning\n",
        "  - Vendor inefficiencies\n",
        "- These insights can guide **cost control measures**, **contract renegotiation**, or **carrier performance audits**.\n",
        "\n",
        "⚠️ **Negative Growth Risk:**\n",
        "\n",
        "- If outliers are not addressed, they can **inflate average shipping costs** and **distort budgeting**.\n",
        "- Lack of visibility into outlier cases may lead to **continued operational inefficiency** and **lost margins**."
      ],
      "metadata": {
        "id": "_WtzZ_hCYuh4"
      }
    },
    {
      "cell_type": "markdown",
      "source": [
        "#### Chart - 6"
      ],
      "metadata": {
        "id": "OH-pJp9IphqM"
      }
    },
    {
      "cell_type": "code",
      "source": [
        "# Chart - 6 visualization code\n",
        "plt.figure(figsize=(10, 6))\n",
        "sns.barplot(data=df_clean, x='Shipment Mode', y='Delivery Delay (Days)', estimator='mean', palette='viridis')\n",
        "plt.axhline(0, color='red', linestyle='--', label='On-Time (0 Days)')\n",
        "plt.title('Average Delivery Delay by Shipment Mode')\n",
        "plt.xlabel('Shipment Mode')\n",
        "plt.ylabel('Average Delivery Delay (Days)')\n",
        "plt.legend()\n",
        "plt.grid(True)\n",
        "plt.tight_layout()\n",
        "plt.show()\n",
        "\n"
      ],
      "metadata": {
        "id": "kuRf4wtuphqN"
      },
      "execution_count": null,
      "outputs": []
    },
    {
      "cell_type": "markdown",
      "source": [
        "##### 1. Why did you pick the specific chart?"
      ],
      "metadata": {
        "id": "bbFf2-_FphqN"
      }
    },
    {
      "cell_type": "markdown",
      "source": [
        "\n",
        "This chart helps analyze how different shipment methods (Air, Sea, Truck, etc.) affect delivery performance. It’s a **bivariate analysis** to evaluate if one mode leads to more delays than others."
      ],
      "metadata": {
        "id": "loh7H2nzphqN"
      }
    },
    {
      "cell_type": "markdown",
      "source": [
        "##### 2. What is/are the insight(s) found from the chart?"
      ],
      "metadata": {
        "id": "_ouA3fa0phqN"
      }
    },
    {
      "cell_type": "markdown",
      "source": [
        "\n",
        "\n",
        "- If `Air` has the **lowest average delay**, it’s the most reliable mode.\n",
        "- If `Sea` shows **positive average delays**, it may be riskier for time-sensitive pharmaceuticals.\n",
        "- Modes with **negative average delays** indicate **early delivery** trends.\n"
      ],
      "metadata": {
        "id": "VECbqPI7phqN"
      }
    },
    {
      "cell_type": "markdown",
      "source": [
        "##### 3. Will the gained insights help creating a positive business impact?\n",
        "Are there any insights that lead to negative growth? Justify with specific reason."
      ],
      "metadata": {
        "id": "Seke61FWphqN"
      }
    },
    {
      "cell_type": "markdown",
      "source": [
        "\n",
        "✅ **Positive Impact**:\n",
        "- Helps logistics teams **prioritize fast and reliable shipment modes** for critical products.\n",
        "\n",
        "⚠️ **Neagtive Impact**:\n",
        "- Reliance on slower shipment modes (if needed for cost reasons) must be **balanced with risk of delays**.\n"
      ],
      "metadata": {
        "id": "DW4_bGpfphqN"
      }
    },
    {
      "cell_type": "markdown",
      "source": [
        "#### Chart - 7"
      ],
      "metadata": {
        "id": "PIIx-8_IphqN"
      }
    },
    {
      "cell_type": "code",
      "source": [
        "# Chart - 7 visualization code\n",
        "plt.figure(figsize=(12, 10))\n",
        "country_delay = df_clean.groupby('Country')['Delivery Delay (Days)'].mean().sort_values()\n",
        "\n",
        "sns.barplot(x=country_delay.values, y=country_delay.index, palette='coolwarm')\n",
        "plt.axvline(0, color='green', linestyle='--', label='On-Time (0 Days)')\n",
        "plt.title('Average Delivery Delay by Country')\n",
        "plt.xlabel('Average Delivery Delay (Days)')\n",
        "plt.ylabel('Destination Country')\n",
        "plt.legend()\n",
        "plt.grid(True)\n",
        "plt.tight_layout()\n",
        "plt.show()\n"
      ],
      "metadata": {
        "id": "lqAIGUfyphqO"
      },
      "execution_count": null,
      "outputs": []
    },
    {
      "cell_type": "markdown",
      "source": [
        "##### 1. Why did you pick the specific chart?"
      ],
      "metadata": {
        "id": "t27r6nlMphqO"
      }
    },
    {
      "cell_type": "markdown",
      "source": [
        "\n",
        "\n",
        "We're doing **bivariate analysis** here — to compare average delivery performance across countries. This helps uncover **location-based risk** or **logistical excellence**."
      ],
      "metadata": {
        "id": "iv6ro40sphqO"
      }
    },
    {
      "cell_type": "markdown",
      "source": [
        "##### 2. What is/are the insight(s) found from the chart?"
      ],
      "metadata": {
        "id": "r2jJGEOYphqO"
      }
    },
    {
      "cell_type": "markdown",
      "source": [
        "\n",
        "- Countries with **high positive delay** averages are potential **problem areas** — possibly due to customs, vendor issues, or infrastructure.\n",
        "- Countries with **negative averages** are receiving shipments early — that’s a win.\n",
        "- This reveals **geographic logistics health** across the organization.\n"
      ],
      "metadata": {
        "id": "Po6ZPi4hphqO"
      }
    },
    {
      "cell_type": "markdown",
      "source": [
        "##### 3. Will the gained insights help creating a positive business impact?\n",
        "Are there any insights that lead to negative growth? Justify with specific reason."
      ],
      "metadata": {
        "id": "b0JNsNcRphqO"
      }
    },
    {
      "cell_type": "markdown",
      "source": [
        "\n",
        "✅ **Positive Impact**:\n",
        "- Prioritize investments in underperforming routes (e.g., optimize partners, warehouse location, or transport vendors).\n",
        "- Share success patterns from well-performing countries with others.\n",
        "\n",
        "⚠️ **Neagtive Impact**:\n",
        "- Repeated delays in specific countries can lead to **compliance penalties**, **loss of trust**, or **financial loss**, especially in pharma logistics.\n"
      ],
      "metadata": {
        "id": "xvSq8iUTphqO"
      }
    },
    {
      "cell_type": "markdown",
      "source": [
        "#### Chart - 8"
      ],
      "metadata": {
        "id": "BZR9WyysphqO"
      }
    },
    {
      "cell_type": "code",
      "source": [
        "# Chart - 8 visualization code\n",
        "# Feature engineering: PO Processing Time\n",
        "df_clean['PO Processing Time (Days)'] = (\n",
        "    df_clean['PO Sent to Vendor Date'] - df_clean['PQ First Sent to Client Date']\n",
        ").dt.days\n",
        "\n",
        "# Scatter plot: PO Processing Time vs Delivery Delay\n",
        "plt.figure(figsize=(10, 6))\n",
        "sns.scatterplot(\n",
        "    data=df_clean,\n",
        "    x='PO Processing Time (Days)',\n",
        "    y='Delivery Delay (Days)',\n",
        "    hue='Shipment Mode',\n",
        "    palette='Set2',\n",
        "    alpha=0.7\n",
        ")\n",
        "plt.axhline(0, color='red', linestyle='--', label='On-Time Delivery')\n",
        "plt.title('PO Processing Time vs Delivery Delay')\n",
        "plt.xlabel('PO Processing Time (Days)')\n",
        "plt.ylabel('Delivery Delay (Days)')\n",
        "plt.legend()\n",
        "plt.grid(True)\n",
        "plt.tight_layout()\n",
        "plt.show()\n"
      ],
      "metadata": {
        "id": "TdPTWpAVphqO"
      },
      "execution_count": null,
      "outputs": []
    },
    {
      "cell_type": "markdown",
      "source": [
        "##### 1. Why did you pick the specific chart?"
      ],
      "metadata": {
        "id": "jj7wYXLtphqO"
      }
    },
    {
      "cell_type": "markdown",
      "source": [
        "\n",
        "\n",
        "This chart helps explore if there's a **relationship between how long it takes to process a PO** and **how late the delivery becomes**. This is key to identifying **internal delays** vs. external ones."
      ],
      "metadata": {
        "id": "Ob8u6rCTphqO"
      }
    },
    {
      "cell_type": "markdown",
      "source": [
        "##### 2. What is/are the insight(s) found from the chart?"
      ],
      "metadata": {
        "id": "eZrbJ2SmphqO"
      }
    },
    {
      "cell_type": "markdown",
      "source": [
        "\n",
        "\n",
        "- A visible **positive trend** would mean **longer PO processing → more delivery delay**.\n",
        "- Clustering in low PO processing time & low delay region = healthy process.\n",
        "- Shipment mode coloring helps reveal if certain modes are more delay-prone even when PO is processed quickly."
      ],
      "metadata": {
        "id": "mZtgC_hjphqO"
      }
    },
    {
      "cell_type": "markdown",
      "source": [
        "##### 3. Will the gained insights help creating a positive business impact?\n",
        "Are there any insights that lead to negative growth? Justify with specific reason."
      ],
      "metadata": {
        "id": "rFu4xreNphqO"
      }
    },
    {
      "cell_type": "markdown",
      "source": [
        "\n",
        "\n",
        "✅ **Positive Impact**:\n",
        "- Reducing PO processing time may directly improve delivery timelines.\n",
        "- Helps identify internal inefficiencies — not just blame external vendors.\n",
        "\n",
        "⚠️ **Negative Impact**:\n",
        "- If delays are happening **despite fast PO processing**, then downstream issues (e.g., shipping, customs) need attention."
      ],
      "metadata": {
        "id": "ey_0qi68phqO"
      }
    },
    {
      "cell_type": "markdown",
      "source": [
        "#### Chart - 9"
      ],
      "metadata": {
        "id": "YJ55k-q6phqO"
      }
    },
    {
      "cell_type": "code",
      "source": [
        "# Chart - 9 visualization code\n",
        "\n",
        "df_clean['Line Item Value (USD)'] = pd.to_numeric(df_clean['Line Item Value'], errors='coerce')\n",
        "df_clean['Line Item Insurance (USD)'] = pd.to_numeric(df_clean['Line Item Insurance (USD)'], errors='coerce')\n",
        "\n",
        "plt.figure(figsize=(10, 6))\n",
        "sns.scatterplot(\n",
        "    data=df_clean,\n",
        "    x='Line Item Value (USD)',\n",
        "    y='Line Item Insurance (USD)',\n",
        "    hue='Shipment Mode',\n",
        "    palette='Spectral',\n",
        "    alpha=0.6\n",
        ")\n",
        "plt.title('Line Item Value vs Insurance Cost')\n",
        "plt.xlabel('Line Item Value (USD)')\n",
        "plt.ylabel('Insurance Cost (USD)')\n",
        "plt.grid(True)\n",
        "plt.legend()\n",
        "plt.tight_layout()\n",
        "plt.show()\n"
      ],
      "metadata": {
        "id": "B2aS4O1ophqO"
      },
      "execution_count": null,
      "outputs": []
    },
    {
      "cell_type": "markdown",
      "source": [
        "##### 1. Why did you pick the specific chart?"
      ],
      "metadata": {
        "id": "gCFgpxoyphqP"
      }
    },
    {
      "cell_type": "markdown",
      "source": [
        "\n",
        "\n",
        "This chart explores how the **declared value of goods** correlates with **insurance costs** — critical for understanding how risk is priced and whether it’s justified."
      ],
      "metadata": {
        "id": "TVxDimi2phqP"
      }
    },
    {
      "cell_type": "markdown",
      "source": [
        "##### 2. What is/are the insight(s) found from the chart?"
      ],
      "metadata": {
        "id": "OVtJsKN_phqQ"
      }
    },
    {
      "cell_type": "markdown",
      "source": [
        "\n",
        "\n",
        "- You’ll likely see a **positive correlation** — higher value → higher insurance.\n",
        "- Outliers might reveal cases where **high insurance is charged for low-value items** (over-insurance or fraud risk).\n",
        "- Cluster by `Shipment Mode` shows how insurance varies by transport type."
      ],
      "metadata": {
        "id": "ngGi97qjphqQ"
      }
    },
    {
      "cell_type": "markdown",
      "source": [
        "##### 3. Will the gained insights help creating a positive business impact?\n",
        "Are there any insights that lead to negative growth? Justify with specific reason."
      ],
      "metadata": {
        "id": "lssrdh5qphqQ"
      }
    },
    {
      "cell_type": "markdown",
      "source": [
        "\n",
        "✅ **Postivive Impact**:\n",
        "- Helps finance and ops optimize insurance spend.\n",
        "- Identify unnecessary high premiums for low-value shipments.\n",
        "\n",
        "⚠️ **Negativen Impact**:\n",
        "- Discrepancies could mean **manual errors**, **vendor manipulation**, or **policy inefficiencies**.\n"
      ],
      "metadata": {
        "id": "tBpY5ekJphqQ"
      }
    },
    {
      "cell_type": "markdown",
      "source": [
        "#### Chart - 10"
      ],
      "metadata": {
        "id": "U2RJ9gkRphqQ"
      }
    },
    {
      "cell_type": "code",
      "source": [
        "print(df_clean.columns.tolist())\n"
      ],
      "metadata": {
        "id": "YXAKCLJUfsyy"
      },
      "execution_count": null,
      "outputs": []
    },
    {
      "cell_type": "code",
      "source": [
        "# Chart - 10 visualization code\n",
        "\n",
        "plt.figure(figsize=(10, 6))\n",
        "sns.barplot(\n",
        "    data=df_clean,\n",
        "    x='Vendor INCO Term',\n",
        "    y='Line Item Insurance (USD)',\n",
        "    estimator='mean',\n",
        "    palette='coolwarm'\n",
        ")\n",
        "plt.title('Average Insurance Cost by INCO Term')\n",
        "plt.xlabel('INCO Term')\n",
        "plt.ylabel('Average Insurance Cost (USD)')\n",
        "plt.grid(True)\n",
        "plt.tight_layout()\n",
        "plt.show()\n"
      ],
      "metadata": {
        "id": "GM7a4YP4phqQ"
      },
      "execution_count": null,
      "outputs": []
    },
    {
      "cell_type": "markdown",
      "source": [
        "##### 1. Why did you pick the specific chart?"
      ],
      "metadata": {
        "id": "1M8mcRywphqQ"
      }
    },
    {
      "cell_type": "markdown",
      "source": [
        "\n",
        "\n",
        "INCO Terms (like **FOB**, **CIF**, etc.) define who takes responsibility for the shipment and at what point. This directly impacts **insurance cost**, so it's critical to analyze their effect.\n"
      ],
      "metadata": {
        "id": "8agQvks0phqQ"
      }
    },
    {
      "cell_type": "markdown",
      "source": [
        "##### 2. What is/are the insight(s) found from the chart?"
      ],
      "metadata": {
        "id": "tgIPom80phqQ"
      }
    },
    {
      "cell_type": "markdown",
      "source": [
        "\n",
        "- Some INCO terms (like **CIF**) may show **higher average insurance costs** — likely because they **include insurance by default**.\n",
        "- Others (like **EXW**, **FOB**) may show lower costs, suggesting insurance is handled separately or not purchased."
      ],
      "metadata": {
        "id": "Qp13pnNzphqQ"
      }
    },
    {
      "cell_type": "markdown",
      "source": [
        "##### 3. Will the gained insights help creating a positive business impact?\n",
        "Are there any insights that lead to negative growth? Justify with specific reason."
      ],
      "metadata": {
        "id": "JMzcOPDDphqR"
      }
    },
    {
      "cell_type": "markdown",
      "source": [
        "\n",
        "\n",
        "✅ **Positive Impact**:\n",
        "- Choose cost-effective INCO terms for regular shipping routes.\n",
        "- Negotiate better terms with vendors and insurers.\n",
        "\n",
        "⚠️ **Negative Impact**:\n",
        "- Using high-insurance INCO terms without justification may increase operational costs.\n",
        "- Low-insurance terms may raise **liability risk** in case of cargo damage/loss.\n"
      ],
      "metadata": {
        "id": "R4Ka1PC2phqR"
      }
    },
    {
      "cell_type": "markdown",
      "source": [
        "#### Chart - 11"
      ],
      "metadata": {
        "id": "x-EpHcCOp1ci"
      }
    },
    {
      "cell_type": "code",
      "source": [
        "# Chart - 11 visualization code\n",
        "\n",
        "plt.figure(figsize=(10, 6))\n",
        "sns.scatterplot(\n",
        "    data=df_clean,\n",
        "    x='Weight (Kilograms)',\n",
        "    y='Freight Cost (USD)',\n",
        "    hue='Shipment Mode',\n",
        "    palette='tab10',\n",
        "    alpha=0.6\n",
        ")\n",
        "plt.title('Shipment Weight vs Freight Cost')\n",
        "plt.xlabel('Weight (Kilograms)')\n",
        "plt.ylabel('Freight Cost (USD)')\n",
        "plt.grid(True)\n",
        "plt.legend(title='Shipment Mode')\n",
        "plt.tight_layout()\n",
        "plt.show()\n"
      ],
      "metadata": {
        "id": "mAQTIvtqp1cj"
      },
      "execution_count": null,
      "outputs": []
    },
    {
      "cell_type": "markdown",
      "source": [
        "##### 1. Why did you pick the specific chart?"
      ],
      "metadata": {
        "id": "X_VqEhTip1ck"
      }
    },
    {
      "cell_type": "markdown",
      "source": [
        "Let's lock in **Chart 11** — this one’s a classic logistics KPI:  \n",
        "📦 **How does Shipment Weight affect Freight Cost?**\n",
        "\n",
        "\n",
        "\n",
        "To examine if **heavier shipments cost more**, and how the **shipment mode** may change that cost relationship. It uncovers **cost scaling trends** in your freight logistics.\n"
      ],
      "metadata": {
        "id": "-vsMzt_np1ck"
      }
    },
    {
      "cell_type": "markdown",
      "source": [
        "##### 2. What is/are the insight(s) found from the chart?"
      ],
      "metadata": {
        "id": "8zGJKyg5p1ck"
      }
    },
    {
      "cell_type": "markdown",
      "source": [
        "\n",
        "\n",
        "- Expected: **Positive correlation** → heavier = more expensive.\n",
        "- **Shipment Mode patterns**:\n",
        "  - Air: High cost, even for lighter items.\n",
        "  - Sea: Cost rises slower, better for heavy shipments.\n",
        "- Any outliers (high freight for light weight) could signal **inefficiencies or errors**."
      ],
      "metadata": {
        "id": "ZYdMsrqVp1ck"
      }
    },
    {
      "cell_type": "markdown",
      "source": [
        "##### 3. Will the gained insights help creating a positive business impact?\n",
        "Are there any insights that lead to negative growth? Justify with specific reason."
      ],
      "metadata": {
        "id": "PVzmfK_Ep1ck"
      }
    },
    {
      "cell_type": "markdown",
      "source": [
        "Let's lock in **Chart 11** — this one’s a classic logistics KPI:  \n",
        "📦 **How does Shipment Weight affect Freight Cost?**\n",
        "\n",
        "\n",
        "✅ **Positive Impact**:\n",
        "- Match shipment type to weight class for cost savings.\n",
        "- Re-negotiate with vendors where pricing seems inconsistent.\n",
        "\n",
        "⚠️ **Negative Impact**:\n",
        "- If light shipments are showing high costs → investigate route or vendor overcharges.\n"
      ],
      "metadata": {
        "id": "druuKYZpp1ck"
      }
    },
    {
      "cell_type": "markdown",
      "source": [
        "#### Chart - 12"
      ],
      "metadata": {
        "id": "n3dbpmDWp1ck"
      }
    },
    {
      "cell_type": "code",
      "source": [
        "# Chart - 12 visualization code\n",
        "plt.figure(figsize=(10, 6))\n",
        "sns.scatterplot(\n",
        "    data=df_clean,\n",
        "    x='Freight Cost (USD)',\n",
        "    y='Line Item Insurance (USD)',\n",
        "    hue='Shipment Mode',\n",
        "    palette='Dark2',\n",
        "    alpha=0.7\n",
        ")\n",
        "plt.title('Freight Cost vs Insurance Cost')\n",
        "plt.xlabel('Freight Cost (USD)')\n",
        "plt.ylabel('Insurance Cost (USD)')\n",
        "plt.grid(True)\n",
        "plt.legend(title='Shipment Mode')\n",
        "plt.tight_layout()\n",
        "plt.show()\n"
      ],
      "metadata": {
        "id": "bwevp1tKp1ck"
      },
      "execution_count": null,
      "outputs": []
    },
    {
      "cell_type": "markdown",
      "source": [
        "##### 1. Why did you pick the specific chart?"
      ],
      "metadata": {
        "id": "ylSl6qgtp1ck"
      }
    },
    {
      "cell_type": "markdown",
      "source": [
        "\n",
        "\n",
        "We’re exploring if **higher freight charges** are associated with **higher insurance premiums**. This can indicate:\n",
        "- High-value shipments that are also heavy or urgent.\n",
        "- Risk-pricing correlations by mode of transport."
      ],
      "metadata": {
        "id": "m2xqNkiQp1ck"
      }
    },
    {
      "cell_type": "markdown",
      "source": [
        "##### 2. What is/are the insight(s) found from the chart?"
      ],
      "metadata": {
        "id": "ZWILFDl5p1ck"
      }
    },
    {
      "cell_type": "markdown",
      "source": [
        "\n",
        "\n",
        "- Strong **positive trend** would suggest that **freight cost and insurance move together** — likely high-value or risky cargo.\n",
        "- If there’s **no correlation**, it might suggest **insurance is driven by declared value only**, not freight conditions.\n",
        "- Shipment Mode gives context on which methods are pricier across the board."
      ],
      "metadata": {
        "id": "x-lUsV2mp1ck"
      }
    },
    {
      "cell_type": "markdown",
      "source": [
        "##### 3. Will the gained insights help creating a positive business impact?\n",
        "Are there any insights that lead to negative growth? Justify with specific reason."
      ],
      "metadata": {
        "id": "M7G43BXep1ck"
      }
    },
    {
      "cell_type": "markdown",
      "source": [
        "\n",
        "\n",
        "✅ **Positive Impact**:\n",
        "- Helps finance teams predict **total logistics spend** (freight + insurance).\n",
        "- Useful when negotiating better bundled deals with logistics partners.\n",
        "\n",
        "⚠️ **Negative Impact**:\n",
        "- If insurance cost spikes but freight is flat → may be **over-insuring**, or vendor-specific issues."
      ],
      "metadata": {
        "id": "5wwDJXsLp1cl"
      }
    },
    {
      "cell_type": "markdown",
      "source": [
        "#### Chart - 13"
      ],
      "metadata": {
        "id": "Ag9LCva-p1cl"
      }
    },
    {
      "cell_type": "code",
      "source": [
        "# Chart - 13 visualization code\n",
        "\n",
        "plt.figure(figsize=(12, 7))\n",
        "sns.scatterplot(\n",
        "    data=df_clean,\n",
        "    x='Weight (Kilograms)',\n",
        "    y='Delivery Delay (Days)',\n",
        "    hue='Shipment Mode',\n",
        "    size='Freight Cost (USD)',  # Optional third numerical dimension\n",
        "    sizes=(20, 400),\n",
        "    palette='Set1',\n",
        "    alpha=0.6\n",
        ")\n",
        "plt.title('Delivery Delay vs Weight (by Shipment Mode & Freight Cost)')\n",
        "plt.xlabel('Shipment Weight (Kilograms)')\n",
        "plt.ylabel('Delivery Delay (Days)')\n",
        "plt.legend(title='Shipment Mode', bbox_to_anchor=(1.05, 1), loc='upper left')\n",
        "plt.grid(True)\n",
        "plt.tight_layout()\n",
        "plt.show()\n"
      ],
      "metadata": {
        "id": "EUfxeq9-p1cl"
      },
      "execution_count": null,
      "outputs": []
    },
    {
      "cell_type": "markdown",
      "source": [
        "##### 1. Why did you pick the specific chart?"
      ],
      "metadata": {
        "id": "E6MkPsBcp1cl"
      }
    },
    {
      "cell_type": "markdown",
      "source": [
        "\n",
        "\n",
        "This chart packs **three variables** into one view — a great way to understand **how weight and freight interact with delivery delays**, and which shipment modes perform best under pressure.\n"
      ],
      "metadata": {
        "id": "V22bRsFWp1cl"
      }
    },
    {
      "cell_type": "markdown",
      "source": [
        "##### 2. What is/are the insight(s) found from the chart?"
      ],
      "metadata": {
        "id": "2cELzS2fp1cl"
      }
    },
    {
      "cell_type": "markdown",
      "source": [
        "\n",
        "\n",
        "- See if **heavier shipments** tend to be **delayed more**.\n",
        "- Some shipment modes may appear clustered in **high delay zones**.\n",
        "- Larger bubbles = **high freight** — lets you spot expensive delays."
      ],
      "metadata": {
        "id": "ozQPc2_Ip1cl"
      }
    },
    {
      "cell_type": "markdown",
      "source": [
        "##### 3. Will the gained insights help creating a positive business impact?\n",
        "Are there any insights that lead to negative growth? Justify with specific reason."
      ],
      "metadata": {
        "id": "3MPXvC8up1cl"
      }
    },
    {
      "cell_type": "markdown",
      "source": [
        "\n",
        "✅ **Positive Impact**:\n",
        "- Ops, finance, and logistics can all use this to spot **costly inefficiencies**.\n",
        "- Identify weight thresholds where certain shipment modes become riskier.\n",
        "\n",
        "⚠️ **Negative Impact**:\n",
        "- Freight-heavy shipments with consistent delays = **urgent area for intervention**.\n"
      ],
      "metadata": {
        "id": "GL8l1tdLp1cl"
      }
    },
    {
      "cell_type": "markdown",
      "source": [
        "#### Chart - 14 - Correlation Heatmap"
      ],
      "metadata": {
        "id": "NC_X3p0fY2L0"
      }
    },
    {
      "cell_type": "code",
      "source": [
        "# Correlation Heatmap visualization code\n",
        "\n",
        "# Select only numerical columns for correlation analysis\n",
        "numerical_cols = df_clean.select_dtypes(include='number')\n",
        "\n",
        "# Compute correlation matrix\n",
        "corr_matrix = numerical_cols.corr()\n",
        "\n",
        "# Plot heatmap\n",
        "plt.figure(figsize=(12, 8))\n",
        "sns.heatmap(\n",
        "    corr_matrix,\n",
        "    annot=True,\n",
        "    fmt='.2f',\n",
        "    cmap='coolwarm',\n",
        "    linewidths=0.5,\n",
        "    square=True\n",
        ")\n",
        "plt.title('Correlation Heatmap of Numerical Features')\n",
        "plt.tight_layout()\n",
        "plt.show()\n"
      ],
      "metadata": {
        "id": "xyC9zolEZNRQ"
      },
      "execution_count": null,
      "outputs": []
    },
    {
      "cell_type": "markdown",
      "source": [
        "##### 1. Why did you pick the specific chart?"
      ],
      "metadata": {
        "id": "UV0SzAkaZNRQ"
      }
    },
    {
      "cell_type": "markdown",
      "source": [
        "\n",
        "\n",
        "The correlation heatmap is a **must-have EDA chart**. It reveals how features are **statistically related**, especially helpful before modeling."
      ],
      "metadata": {
        "id": "DVPuT8LYZNRQ"
      }
    },
    {
      "cell_type": "markdown",
      "source": [
        "##### 2. What is/are the insight(s) found from the chart?"
      ],
      "metadata": {
        "id": "YPEH6qLeZNRQ"
      }
    },
    {
      "cell_type": "markdown",
      "source": [
        "\n",
        "\n",
        "- High correlation between `Freight Cost` and `Weight`? ✅ Makes sense logistically.\n",
        "- `Insurance Cost` highly correlated with `Line Item Value`? Also logical.\n",
        "- `Delivery Delay` showing low or inverse correlation with others? Might need different feature engineering.\n"
      ],
      "metadata": {
        "id": "bfSqtnDqZNRR"
      }
    },
    {
      "cell_type": "markdown",
      "source": [
        "#### Chart - 15 - Pair Plot"
      ],
      "metadata": {
        "id": "q29F0dvdveiT"
      }
    },
    {
      "cell_type": "code",
      "source": [
        "# Pair Plot visualization code\n",
        "\n",
        "# Select key numerical columns + category for hue\n",
        "pairplot_features = [\n",
        "    'Weight (Kilograms)',\n",
        "    'Freight Cost (USD)',\n",
        "    'Line Item Insurance (USD)',\n",
        "    'Delivery Delay (Days)',\n",
        "    'Shipment Mode'\n",
        "]\n",
        "\n",
        "# Filter data to avoid nulls in selected features\n",
        "df_pair = df_clean[pairplot_features].dropna()\n",
        "\n",
        "# Plot pairplot\n",
        "sns.pairplot(\n",
        "    df_pair,\n",
        "    hue='Shipment Mode',\n",
        "    diag_kind='kde',\n",
        "    palette='husl',\n",
        "    plot_kws={'alpha': 0.6, 's': 60}\n",
        ")\n",
        "plt.suptitle('Pair Plot of Key Logistics Metrics by Shipment Mode', y=1.02)\n",
        "plt.show()\n"
      ],
      "metadata": {
        "id": "o58-TEIhveiU"
      },
      "execution_count": null,
      "outputs": []
    },
    {
      "cell_type": "markdown",
      "source": [
        "##### 1. Why did you pick the specific chart?"
      ],
      "metadata": {
        "id": "EXh0U9oCveiU"
      }
    },
    {
      "cell_type": "markdown",
      "source": [
        "\n",
        "The **pair plot** is a powerful EDA tool that:\n",
        "- Reveals **relationships** between multiple numerical variables at once\n",
        "- Displays **distributions** (via diagonal KDEs)\n",
        "- Highlights **clusters**, **correlations**, and **outliers**\n",
        "- Offers categorical segmentation using `Shipment Mode` (helpful for insights across transportation types)"
      ],
      "metadata": {
        "id": "eMmPjTByveiU"
      }
    },
    {
      "cell_type": "markdown",
      "source": [
        "##### 2. What is/are the insight(s) found from the chart?"
      ],
      "metadata": {
        "id": "22aHeOlLveiV"
      }
    },
    {
      "cell_type": "markdown",
      "source": [
        "\n",
        "- **Freight Cost** vs **Weight** → clearly **positively correlated**, especially for sea/air shipments.\n",
        "- **Insurance Cost** vs **Weight** → less linear, but some modes (e.g., air) show tighter ranges.\n",
        "- **Delivery Delay** is not strongly correlated with others but **clusters are visible** for specific shipment modes.\n",
        "- Clear visual **differences in spread and density** for different shipment methods.\n"
      ],
      "metadata": {
        "id": "uPQ8RGwHveiV"
      }
    },
    {
      "cell_type": "markdown",
      "source": [
        "## **5. Solution to Business Objective**"
      ],
      "metadata": {
        "id": "JcMwzZxoAimU"
      }
    },
    {
      "cell_type": "markdown",
      "source": [
        "#### What do you suggest the client to achieve Business Objective ?\n",
        "Explain Briefly."
      ],
      "metadata": {
        "id": "8G2x9gOozGDZ"
      }
    },
    {
      "cell_type": "markdown",
      "source": [
        " **Solution to Business Objective**\n",
        "\n",
        "To achieve the business objective of improving delivery performance and reducing shipment-related risks, the client should focus on the following key actions based on the analysis:\n",
        "\n",
        "- **Optimize Shipping Modes:** Since certain shipment modes (e.g., air vs. sea) are more prone to delays, logistics decisions should consider both speed and reliability, not just cost.\n",
        "  \n",
        "- **Vendor and Team Performance Monitoring:** Teams like PMO-US showed varying levels of delivery effectiveness. Regularly evaluate vendor and team KPIs to identify and scale best practices.\n",
        "\n",
        "- **Geographic Risk Management:** Countries of origin and destination impact delay rates. Introduce region-specific strategies like buffer timelines or alternate routes for high-risk geographies.\n",
        "\n",
        "- **INCO Terms and PO Processing:** Delays were linked to longer PO processing times and specific INCO terms. Streamlining the procurement workflow and negotiating better contractual terms can improve on-time performance.\n",
        "\n",
        "- **Insurance and Cost Efficiency:** High insurance values correlate with heavier shipments. Optimize packaging and consolidation strategies to reduce overall shipment weight and associated costs.\n",
        "\n",
        "These insights empower the client to take data-driven steps toward refining their end-to-end logistics and procurement operations.\n"
      ],
      "metadata": {
        "id": "pASKb0qOza21"
      }
    },
    {
      "cell_type": "markdown",
      "source": [
        "# **Conclusion**"
      ],
      "metadata": {
        "id": "gCX9965dhzqZ"
      }
    },
    {
      "cell_type": "markdown",
      "source": [
        "**Conclusion**\n",
        "\n",
        "This exploratory data analysis provides actionable insights into the performance of pharmaceutical shipments. By identifying key delay drivers like shipment mode, vendor/team efficiency, and geographic patterns, the study highlights areas for process optimization. Addressing these issues with targeted improvements can lead to increased on-time deliveries, reduced costs, and better risk management—ultimately enhancing the reliability of the client’s global supply chain.\n"
      ],
      "metadata": {
        "id": "Fjb1IsQkh3yE"
      }
    }
  ]
}